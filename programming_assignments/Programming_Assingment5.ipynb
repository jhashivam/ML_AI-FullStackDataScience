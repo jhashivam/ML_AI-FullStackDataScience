{
 "cells": [
  {
   "cell_type": "markdown",
   "id": "309ea42d",
   "metadata": {},
   "source": [
    "### 1.\tWrite a Python Program to Find LCM?"
   ]
  },
  {
   "cell_type": "code",
   "execution_count": 2,
   "id": "b8a2a95c",
   "metadata": {},
   "outputs": [
    {
     "name": "stdout",
     "output_type": "stream",
     "text": [
      "The LCM of 3,6 is 6\n",
      "The LCM of 5,2 is 10\n",
      "The LCM of 5,100 is 100\n"
     ]
    }
   ],
   "source": [
    "def find_LCM(x_term,y_term):\n",
    "    if x_term > y_term:\n",
    "        greater = x_term\n",
    "    else:\n",
    "        greater = x_term\n",
    "    while True:\n",
    "        if((greater%x_term == 0) and (greater%y_term == 0)):\n",
    "            lcm = greater\n",
    "            break\n",
    "        else:\n",
    "            greater +=1\n",
    "    print(f'The LCM of {x_term},{y_term} is {lcm}')\n",
    "\n",
    "find_LCM(3,6)\n",
    "find_LCM(5,2)\n",
    "find_LCM(5,100)"
   ]
  },
  {
   "cell_type": "markdown",
   "id": "b988d841",
   "metadata": {},
   "source": [
    "### 2.\tWrite a Python Program to Find HCF?"
   ]
  },
  {
   "cell_type": "code",
   "execution_count": 3,
   "id": "60c890dd",
   "metadata": {},
   "outputs": [
    {
     "name": "stdout",
     "output_type": "stream",
     "text": [
      "The HCF of 6,12 is 6\n",
      "The HCF of 2,3 is 1\n",
      "The HCF of 10,23 is 1\n"
     ]
    }
   ],
   "source": [
    "def find_HCF(x_term,y_term):\n",
    "    if x_term>y_term:\n",
    "        smaller = y_term\n",
    "    else:\n",
    "        smaller = x_term\n",
    "    for ele in range(1,smaller+1):\n",
    "        if((x_term%ele == 0) and (y_term%ele == 0)):\n",
    "            hcf = ele\n",
    "    print(f'The HCF of {x_term},{y_term} is {hcf}')\n",
    "\n",
    "find_HCF(6,12)\n",
    "find_HCF(2,3)\n",
    "find_HCF(10,23)"
   ]
  },
  {
   "cell_type": "markdown",
   "id": "91564697",
   "metadata": {},
   "source": [
    "### 3.\tWrite a Python Program to Convert Decimal to Binary, Octal and Hexadecimal?"
   ]
  },
  {
   "cell_type": "code",
   "execution_count": 6,
   "id": "f7b97d11",
   "metadata": {},
   "outputs": [
    {
     "name": "stdout",
     "output_type": "stream",
     "text": [
      "22654\n",
      "Binary Number -> 0b101100001111110\n",
      "Octal Number -> 0o54176\n",
      "Hexadecimal Number -> 0x587e\n"
     ]
    }
   ],
   "source": [
    "def convert_decimal_to_bi_oct_hex():\n",
    "    number = int(input())\n",
    "    print(f'Binary Number -> {bin(number)}')\n",
    "    print(f'Octal Number -> {oct(number)}')    \n",
    "    print(f'Hexadecimal Number -> {hex(number)}')    \n",
    "\n",
    "convert_decimal_to_bi_oct_hex()"
   ]
  },
  {
   "cell_type": "markdown",
   "id": "99bdcca0",
   "metadata": {},
   "source": [
    "### 4.\tWrite a Python Program To Find ASCII value of a character?"
   ]
  },
  {
   "cell_type": "code",
   "execution_count": 9,
   "id": "ae33100f",
   "metadata": {},
   "outputs": [
    {
     "name": "stdout",
     "output_type": "stream",
     "text": [
      "a\n",
      "Ascii Character of a is 97\n"
     ]
    }
   ],
   "source": [
    "def find_Ascii():\n",
    "    char = input()\n",
    "    if len(char) > 1:\n",
    "        print('Enter a Character')\n",
    "    else:\n",
    "        print(f'Ascii Character of {char} is {ord(char)}')\n",
    "\n",
    "find_Ascii()"
   ]
  },
  {
   "cell_type": "markdown",
   "id": "48cc2e6e",
   "metadata": {},
   "source": [
    "### 5.\tWrite a Python Program to Make a Simple Calculator with 4 basic mathematical operations?"
   ]
  },
  {
   "cell_type": "code",
   "execution_count": 10,
   "id": "856faf7a",
   "metadata": {},
   "outputs": [
    {
     "name": "stdout",
     "output_type": "stream",
     "text": [
      "Select operation.\n",
      "1.Add\n",
      "2.Subtract\n",
      "3.Multiply\n",
      "4.Divide\n",
      "Enter choice(1/2/3/4): 1\n",
      "Enter first number: 2\n",
      "Enter second number: 3\n",
      "2.0 + 3.0 = 5.0\n",
      "Let's do next calculation? (yes/no): yes\n",
      "Enter choice(1/2/3/4): 2\n",
      "Enter first number: 4\n",
      "Enter second number: 2\n",
      "4.0 - 2.0 = 2.0\n",
      "Let's do next calculation? (yes/no): yes\n",
      "Enter choice(1/2/3/4): 3\n",
      "Enter first number: 2\n",
      "Enter second number: 4\n",
      "2.0 * 4.0 = 8.0\n",
      "Let's do next calculation? (yes/no): no\n"
     ]
    }
   ],
   "source": [
    "# This function adds two numbers\n",
    "def add(x, y):\n",
    "    return x + y\n",
    "\n",
    "# This function subtracts two numbers\n",
    "def subtract(x, y):\n",
    "    return x - y\n",
    "\n",
    "# This function multiplies two numbers\n",
    "def multiply(x, y):\n",
    "    return x * y\n",
    "\n",
    "# This function divides two numbers\n",
    "def divide(x, y):\n",
    "    return x / y\n",
    "\n",
    "\n",
    "print(\"Select operation.\")\n",
    "print(\"1.Add\")\n",
    "print(\"2.Subtract\")\n",
    "print(\"3.Multiply\")\n",
    "print(\"4.Divide\")\n",
    "\n",
    "while True:\n",
    "    # take input from the user\n",
    "    choice = input(\"Enter choice(1/2/3/4): \")\n",
    "\n",
    "    # check if choice is one of the four options\n",
    "    if choice in ('1', '2', '3', '4'):\n",
    "        num1 = float(input(\"Enter first number: \"))\n",
    "        num2 = float(input(\"Enter second number: \"))\n",
    "\n",
    "        if choice == '1':\n",
    "            print(num1, \"+\", num2, \"=\", add(num1, num2))\n",
    "\n",
    "        elif choice == '2':\n",
    "            print(num1, \"-\", num2, \"=\", subtract(num1, num2))\n",
    "\n",
    "        elif choice == '3':\n",
    "            print(num1, \"*\", num2, \"=\", multiply(num1, num2))\n",
    "\n",
    "        elif choice == '4':\n",
    "            print(num1, \"/\", num2, \"=\", divide(num1, num2))\n",
    "        \n",
    "        # check if user wants another calculation\n",
    "        # break the while loop if answer is no\n",
    "        next_calculation = input(\"Do next calculation? (Y/N): \")\n",
    "        if next_calculation == \"N\":\n",
    "            break\n",
    "    \n",
    "    else:\n",
    "        print(\"Invalid Input\")"
   ]
  },
  {
   "cell_type": "code",
   "execution_count": null,
   "id": "51b1ddae",
   "metadata": {},
   "outputs": [],
   "source": []
  },
  {
   "cell_type": "code",
   "execution_count": null,
   "id": "76216b76",
   "metadata": {},
   "outputs": [],
   "source": []
  },
  {
   "cell_type": "code",
   "execution_count": null,
   "id": "c70ee0ee",
   "metadata": {},
   "outputs": [],
   "source": []
  },
  {
   "cell_type": "code",
   "execution_count": null,
   "id": "2ddbce0a",
   "metadata": {},
   "outputs": [],
   "source": []
  },
  {
   "cell_type": "code",
   "execution_count": null,
   "id": "3fee0802",
   "metadata": {},
   "outputs": [],
   "source": []
  }
 ],
 "metadata": {
  "kernelspec": {
   "display_name": "Python 3 (ipykernel)",
   "language": "python",
   "name": "python3"
  },
  "language_info": {
   "codemirror_mode": {
    "name": "ipython",
    "version": 3
   },
   "file_extension": ".py",
   "mimetype": "text/x-python",
   "name": "python",
   "nbconvert_exporter": "python",
   "pygments_lexer": "ipython3",
   "version": "3.9.7"
  }
 },
 "nbformat": 4,
 "nbformat_minor": 5
}
