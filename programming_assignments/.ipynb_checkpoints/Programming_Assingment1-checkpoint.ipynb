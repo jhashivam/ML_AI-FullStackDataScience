{
 "cells": [
  {
   "cell_type": "markdown",
   "id": "6be8198d",
   "metadata": {},
   "source": [
    "## 1.\tWrite a Python program to print \"Hello Python\"?"
   ]
  },
  {
   "cell_type": "code",
   "execution_count": 1,
   "id": "6d709c79",
   "metadata": {},
   "outputs": [
    {
     "name": "stdout",
     "output_type": "stream",
     "text": [
      "Hello Python\n"
     ]
    }
   ],
   "source": [
    "print(\"Hello Python\")"
   ]
  },
  {
   "cell_type": "markdown",
   "id": "b40c9fb9",
   "metadata": {},
   "source": [
    "## 2.\tWrite a Python program to do arithmetical operations addition and division.?"
   ]
  },
  {
   "cell_type": "code",
   "execution_count": 2,
   "id": "99b73699",
   "metadata": {},
   "outputs": [
    {
     "name": "stdout",
     "output_type": "stream",
     "text": [
      "25\n",
      "5\n",
      "The sum of 25 and 5 is 30.0\n",
      "The division of 25 and 5 is 5.0\n"
     ]
    }
   ],
   "source": [
    "num1 = input()  \n",
    "num2 = input()  \n",
    "  \n",
    "# addition of num1 and num2 \n",
    "sum = float(num1) + float(num2)  \n",
    " \n",
    "#divison of two numbers  \n",
    "div = float(num1) / float(num2)  \n",
    "\n",
    "# Display the sum  \n",
    "print('The sum of {0} and {1} is {2}'.format(num1, num2, sum))  \n",
    "   \n",
    "# Display the division  \n",
    "print('The division of {0} and {1} is {2}'.format(num1, num2, div))  "
   ]
  },
  {
   "cell_type": "markdown",
   "id": "fe72d5df",
   "metadata": {},
   "source": [
    "## 3.\tWrite a Python program to find the area of a triangle?"
   ]
  },
  {
   "cell_type": "markdown",
   "id": "7181dcbe",
   "metadata": {},
   "source": [
    "### Solution 1"
   ]
  },
  {
   "cell_type": "code",
   "execution_count": 4,
   "id": "21007f97",
   "metadata": {},
   "outputs": [
    {
     "name": "stdout",
     "output_type": "stream",
     "text": [
      "4\n",
      "2\n",
      "4.0\n"
     ]
    }
   ],
   "source": [
    "height = int(input())\n",
    "base = int(input())\n",
    "\n",
    "triangle_area = (height * base)/2\n",
    "\n",
    "print(triangle_area)\n"
   ]
  },
  {
   "cell_type": "markdown",
   "id": "2abf6d43",
   "metadata": {},
   "source": [
    "### Solution 2"
   ]
  },
  {
   "cell_type": "code",
   "execution_count": 5,
   "id": "24585c8e",
   "metadata": {},
   "outputs": [
    {
     "name": "stdout",
     "output_type": "stream",
     "text": [
      "4\n",
      "2\n",
      "4.0\n"
     ]
    }
   ],
   "source": [
    "def areaOfTraingle(height,base):\n",
    "    \n",
    "    print((height * base)/2)\n",
    "areaOfTraingle(height = int(input()),base = int(input()))"
   ]
  },
  {
   "cell_type": "markdown",
   "id": "bb4e017d",
   "metadata": {},
   "source": [
    "## 4.\tWrite a Python program to swap two variables?"
   ]
  },
  {
   "cell_type": "markdown",
   "id": "a9852a7c",
   "metadata": {},
   "source": [
    "### Solution 1"
   ]
  },
  {
   "cell_type": "code",
   "execution_count": 7,
   "id": "857247f2",
   "metadata": {},
   "outputs": [
    {
     "name": "stdout",
     "output_type": "stream",
     "text": [
      "11\n",
      "22\n",
      "The value of a:  22\n",
      "The value of b:  11\n"
     ]
    }
   ],
   "source": [
    "a = int(input())\n",
    "b = int(input())\n",
    "c = a\n",
    "a = b\n",
    "b = c\n",
    "print(\"The value of a: \", a )\n",
    "print(\"The value of b: \", b)"
   ]
  },
  {
   "cell_type": "markdown",
   "id": "9550c4fc",
   "metadata": {},
   "source": [
    "### Solution 2"
   ]
  },
  {
   "cell_type": "code",
   "execution_count": 8,
   "id": "17b165e1",
   "metadata": {},
   "outputs": [
    {
     "name": "stdout",
     "output_type": "stream",
     "text": [
      "11\n",
      "22\n",
      "Value of var1 & var2 before swapping  11 22\n",
      "Value of var1 & var2 after swapping  22 11\n"
     ]
    }
   ],
   "source": [
    "def swap_variables(a,b):\n",
    "    temp_var = a\n",
    "    a = b\n",
    "    b = temp_var\n",
    "    return a,b\n",
    "var1 = int(input())\n",
    "var2 = int(input())\n",
    "print(\"Value of var1 & var2 before swapping \",var1, var2 )\n",
    "var1, var2 = swap_variables(var1, var2)\n",
    "print(\"Value of var1 & var2 after swapping \",var1, var2 )"
   ]
  },
  {
   "cell_type": "markdown",
   "id": "ee585a4b",
   "metadata": {},
   "source": [
    "## 5.\tWrite a Python program to generate a random number?"
   ]
  },
  {
   "cell_type": "code",
   "execution_count": 9,
   "id": "41650c48",
   "metadata": {},
   "outputs": [
    {
     "name": "stdout",
     "output_type": "stream",
     "text": [
      "Random number ->  321\n"
     ]
    }
   ],
   "source": [
    "from random import randint\n",
    "\n",
    "def generateRandomNumber(start, end):\n",
    "    print('Random number -> ',randint(start,end))\n",
    "\n",
    "start = 1\n",
    "end = 1000\n",
    "generateRandomNumber(start,end)"
   ]
  },
  {
   "cell_type": "code",
   "execution_count": null,
   "id": "b637dfd8",
   "metadata": {},
   "outputs": [],
   "source": []
  },
  {
   "cell_type": "code",
   "execution_count": null,
   "id": "fa4d3a64",
   "metadata": {},
   "outputs": [],
   "source": []
  },
  {
   "cell_type": "code",
   "execution_count": null,
   "id": "20bf4f69",
   "metadata": {},
   "outputs": [],
   "source": []
  },
  {
   "cell_type": "code",
   "execution_count": null,
   "id": "ea1ec275",
   "metadata": {},
   "outputs": [],
   "source": []
  },
  {
   "cell_type": "code",
   "execution_count": null,
   "id": "ca35c98b",
   "metadata": {},
   "outputs": [],
   "source": []
  }
 ],
 "metadata": {
  "kernelspec": {
   "display_name": "Python 3 (ipykernel)",
   "language": "python",
   "name": "python3"
  },
  "language_info": {
   "codemirror_mode": {
    "name": "ipython",
    "version": 3
   },
   "file_extension": ".py",
   "mimetype": "text/x-python",
   "name": "python",
   "nbconvert_exporter": "python",
   "pygments_lexer": "ipython3",
   "version": "3.9.7"
  }
 },
 "nbformat": 4,
 "nbformat_minor": 5
}
